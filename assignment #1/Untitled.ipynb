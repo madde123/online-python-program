{
 "cells": [
  {
   "cell_type": "code",
   "execution_count": 1,
   "id": "25ccf8b4",
   "metadata": {},
   "outputs": [
    {
     "name": "stdout",
     "output_type": "stream",
     "text": [
      "Hello Hammad Saeed\n"
     ]
    }
   ],
   "source": [
    "print(\"Hello Hammad Saeed\");"
   ]
  },
  {
   "cell_type": "code",
   "execution_count": 9,
   "id": "d51f65c7",
   "metadata": {},
   "outputs": [
    {
     "name": "stdout",
     "output_type": "stream",
     "text": [
      "the sum of 5 and  6 is  11\n"
     ]
    }
   ],
   "source": [
    "x=5;\n",
    "y=6;\n",
    "z=x+y;\n",
    "print(\"the sum of\",x, \"and \",y ,\"is \" ,z);\n"
   ]
  },
  {
   "cell_type": "code",
   "execution_count": null,
   "id": "98c1de6f",
   "metadata": {},
   "outputs": [],
   "source": []
  }
 ],
 "metadata": {
  "kernelspec": {
   "display_name": "Python 3",
   "language": "python",
   "name": "python3"
  },
  "language_info": {
   "codemirror_mode": {
    "name": "ipython",
    "version": 3
   },
   "file_extension": ".py",
   "mimetype": "text/x-python",
   "name": "python",
   "nbconvert_exporter": "python",
   "pygments_lexer": "ipython3",
   "version": "3.8.8"
  }
 },
 "nbformat": 4,
 "nbformat_minor": 5
}
