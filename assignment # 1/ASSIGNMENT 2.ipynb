{
 "cells": [
  {
   "cell_type": "code",
   "execution_count": 24,
   "id": "d803eb6f",
   "metadata": {},
   "outputs": [
    {
     "name": "stdout",
     "output_type": "stream",
     "text": [
      "\t\t\tMark Sheet\n",
      "\n",
      "Marks in ENGLISH out of 100  =  84\n",
      "Marks in ISLAMIYAT out of 100  =  86\n",
      "Marks in MATHEMATICS out of 100  =  90\n",
      "Obt. Matks =  260\n",
      "Total Matks =  300\n",
      "Percentage =  86.66666666666667\n",
      "Grade = A\n"
     ]
    }
   ],
   "source": [
    "\"\"\"Assignment 2  Marksheet\"\"\"\n",
    "MarksInEng = 84\n",
    "MarksInIsl = 86\n",
    "MarksInMaths = 90\n",
    "TotalMarks =300\n",
    "ObtainMarks = MarksInEng + MarksInIsl + MarksInMaths\n",
    "Percentage = ObtainMarks*100/TotalMarks\n",
    "print(\"\\t\\t\\tMark Sheet\\n\")\n",
    "print(\"Marks in ENGLISH out of 100  = \",MarksInEng)\n",
    "print(\"Marks in ISLAMIYAT out of 100  = \",MarksInIsl)\n",
    "print(\"Marks in MATHEMATICS out of 100  = \",MarksInMaths)\n",
    "print(\"Obt. Matks = \",ObtainMarks)\n",
    "print(\"Total Matks = \",TotalMarks)\n",
    "print(\"Percentage = \",Percentage)\n",
    "if Percentage < 100 and Percentage > 90:\n",
    "    print(\"Grade = A+\")\n",
    "elif Percentage < 90 and Percentage > 80:\n",
    "    print(\"Grade = A\")\n",
    "elif Percentage < 80 and Percentage > 70:\n",
    "    print(\"Grade = B\")\n",
    "elif Percentage < 70 and Percentage > 60:\n",
    "    print(\"Grade = C\")\n",
    "elif Percentage < 60 and Percentage > 50:\n",
    "    print(\"Grade = D\")\n",
    "else:\n",
    "    print(\"Grade= Fail\")\n"
   ]
  },
  {
   "cell_type": "code",
   "execution_count": null,
   "id": "d2959df4",
   "metadata": {},
   "outputs": [],
   "source": []
  }
 ],
 "metadata": {
  "kernelspec": {
   "display_name": "Python 3",
   "language": "python",
   "name": "python3"
  },
  "language_info": {
   "codemirror_mode": {
    "name": "ipython",
    "version": 3
   },
   "file_extension": ".py",
   "mimetype": "text/x-python",
   "name": "python",
   "nbconvert_exporter": "python",
   "pygments_lexer": "ipython3",
   "version": "3.8.8"
  }
 },
 "nbformat": 4,
 "nbformat_minor": 5
}
