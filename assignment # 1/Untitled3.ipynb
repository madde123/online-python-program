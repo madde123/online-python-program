{
 "cells": [
  {
   "cell_type": "code",
   "execution_count": 1,
   "id": "cc9fb89e",
   "metadata": {},
   "outputs": [
    {
     "name": "stdout",
     "output_type": "stream",
     "text": [
      "hello world\n"
     ]
    }
   ],
   "source": [
    "print(\"hello world\")"
   ]
  },
  {
   "cell_type": "code",
   "execution_count": 11,
   "id": "20fcfdd8",
   "metadata": {},
   "outputs": [
    {
     "name": "stdout",
     "output_type": "stream",
     "text": [
      "hello world hammad "
     ]
    }
   ],
   "source": [
    "#my name is hammad\n",
    "\"\"\"\n",
    "hy \n",
    "helllo\n",
    "my name is hammad\n",
    "this is my python code \n",
    "and this is multiline comment\"\"\"\n",
    "print(\"hello world\",\"hammad\",end=\" \")\n"
   ]
  },
  {
   "cell_type": "code",
   "execution_count": 12,
   "id": "00f9c68b",
   "metadata": {},
   "outputs": [
    {
     "name": "stdout",
     "output_type": "stream",
     "text": [
      "hello i am hammad, hammad saeed\n",
      "i am studying in \n",
      " minhaj university \tmy program is computer science.\n"
     ]
    }
   ],
   "source": [
    "\"\"\"\n",
    "hello i am hammad\n",
    "this is my code to understand the\n",
    "escape, print and comment statement.\"\"\"\n",
    "\n",
    "print(\"hello i am hammad\", end=\", \")\n",
    "print(\"hammad saeed\")\n",
    "\n",
    "print(\"i am studying in \\n minhaj university\",\"\\tmy program is computer science.\")\n"
   ]
  },
  {
   "cell_type": "code",
   "execution_count": 27,
   "id": "af07b96f",
   "metadata": {},
   "outputs": [
    {
     "name": "stdout",
     "output_type": "stream",
     "text": [
      "<class 'str'>\n",
      "<class 'int'>\n",
      "<class 'float'>\n",
      "40.7\n",
      "868686868686868686868686868686\n"
     ]
    }
   ],
   "source": [
    "\"\"\"\n",
    "in this program we will study variables\n",
    "ata types and typecasting\"\"\"\n",
    "a=\"54\"\n",
    "b=4\n",
    "c=36.7\n",
    "d=\" 32\"\n",
    "print(type(a))\n",
    "print(type(b))\n",
    "print(type(c))\n",
    "print(c+b)\n",
    "print(15*str(int(a)+int(d)))\n"
   ]
  },
  {
   "cell_type": "code",
   "execution_count": 33,
   "id": "839aac8d",
   "metadata": {},
   "outputs": [
    {
     "name": "stdout",
     "output_type": "stream",
     "text": [
      "enter your number: \n",
      "2\n",
      "you entered:  4\n"
     ]
    }
   ],
   "source": [
    "print(\"enter your number: \")\n",
    "innumber= input()\n",
    "print(\"you entered: \",int(innumber)*2)"
   ]
  },
  {
   "cell_type": "code",
   "execution_count": 38,
   "id": "1bf8c512",
   "metadata": {},
   "outputs": [
    {
     "name": "stdout",
     "output_type": "stream",
     "text": [
      "Enter number 1= \n",
      "12\n",
      "Enter number 2= \n",
      "3\n",
      "The sum of two numbers is  15\n",
      "The product of two numbers is  9\n",
      "The multipiction of two numbers is  36\n",
      "The division of two numbers is  4.0\n"
     ]
    }
   ],
   "source": [
    "\"\"\"quiz \n",
    "make a calculator to add,multiply, subtract,divide two numbers\"\"\"\n",
    "\n",
    "print(\"Enter number 1= \")\n",
    "n1= input()\n",
    "print(\"Enter number 2= \")\n",
    "n2=input()\n",
    "print(\"The sum of two numbers is \",int(n1)+int(n2))\n",
    "print(\"The product of two numbers is \",int(n1)-int(n2))\n",
    "print(\"The multipiction of two numbers is \",int(n1)*int(n2))\n",
    "print(\"The division of two numbers is \",int(n1)/int(n2))"
   ]
  },
  {
   "cell_type": "code",
   "execution_count": 56,
   "id": "8a4863f9",
   "metadata": {},
   "outputs": [
    {
     "name": "stdout",
     "output_type": "stream",
     "text": [
      "20\n",
      "ha\n"
     ]
    }
   ],
   "source": [
    "\"\"\"\n",
    "string\"\"\"\n",
    "mystr=\"hammad is a good boy\"\n",
    "print(len(mystr))\n",
    "#print(mystr[0:6:4]) #string slicing\n"
   ]
  },
  {
   "cell_type": "code",
   "execution_count": 62,
   "id": "4797c4d6",
   "metadata": {},
   "outputs": [
    {
     "name": "stdout",
     "output_type": "stream",
     "text": [
      "20\n",
      "Hammad is a good boy\n",
      "hammad is a good boy\n",
      "Hammad are a good boy\n",
      "0\n",
      "True\n"
     ]
    }
   ],
   "source": [
    "\"\"\" functions\"\"\"\n",
    "mystr=\"Hammad is a good boy\"\n",
    "print(len(mystr))\n",
    "print(mystr.capitalize())\n",
    "print(mystr.lower())\n",
    "print(mystr.replace(\"is\",\"are\"))\n",
    "print(mystr.count(\"0\"))\n",
    "print(mystr.endswith(\"boy\"))\n"
   ]
  },
  {
   "cell_type": "code",
   "execution_count": 86,
   "id": "0c8b2c4f",
   "metadata": {},
   "outputs": [
    {
     "name": "stdout",
     "output_type": "stream",
     "text": [
      "rice\n",
      "[1, 2, 3, 14, 34, 54, 65]\n",
      "[1, 2, 3, 14, 34, 54, 65, 74]\n",
      "74\n",
      "[1, 23, 2, 3, 14, 34, 54, 65, 74]\n",
      "(1, 2, 3)\n",
      "2 1\n"
     ]
    }
   ],
   "source": [
    "\"\"\"\n",
    "list\n",
    "list function\"\"\"\n",
    "grocery=[\"dettol\",\"surf\",\"cooking oil\",\"rice\",556,4]\n",
    "print(grocery[3])\n",
    "numbers=[2,54,34,65,1,14,3]\n",
    "numbers.sort()\n",
    "print(numbers)\n",
    "numbers.append(74)\n",
    "print(numbers)\n",
    "print(max(numbers))\n",
    "numbers.insert(1,23)\n",
    "print(numbers)\n",
    "\n",
    "\"\"\"\n",
    "mutable=can change\n",
    "immutable= cannot change\"\"\"\n",
    "tp=(1,2,3)\n",
    "print(tp)\n",
    "a=1\n",
    "b=2\n",
    "a,b=b,a\n",
    "print(a,b)"
   ]
  },
  {
   "cell_type": "code",
   "execution_count": 15,
   "id": "b10599a4",
   "metadata": {},
   "outputs": [
    {
     "name": "stdout",
     "output_type": "stream",
     "text": [
      "{'hammad': 'burger', 'hanan': 'pizza', 'hassan': {'b': 'bread', 'l': 'burger', 'd': 'biryani'}, 'awais': 'shawarma', 'ali': 'biryani'}\n",
      "{'hammad': 'burger', 'hanan': 'pizza', 'hassan': {'b': 'bread', 'l': 'burger', 'd': 'biryani'}, 'ali': 'biryani'}\n",
      "{'hammad': 'burger', 'hanan': 'pizza', 'hassan': {'b': 'bread', 'l': 'burger', 'd': 'biryani'}, 'ali': 'biryani'}\n",
      "{'hammad': 'burger', 'hanan': 'pizza', 'hassan': {'b': 'bread', 'l': 'burger', 'd': 'biryani'}}\n",
      "burger\n",
      "bread\n",
      "{'b': 'bread', 'l': 'burger', 'd': 'biryani'}\n",
      "{'hammad': 'burger', 'hanan': 'pizza', 'hassan': {'b': 'bread', 'l': 'burger', 'd': 'biryani'}, 'ahmad': 'snacks'}\n",
      "dict_keys(['hammad', 'hanan', 'hassan', 'ahmad'])\n",
      "dict_items([('hammad', 'burger'), ('hanan', 'pizza'), ('hassan', {'b': 'bread', 'l': 'burger', 'd': 'biryani'}), ('ahmad', 'snacks')])\n"
     ]
    }
   ],
   "source": [
    "\"\"\"dictionary and its functions\"\"\"\n",
    "d1=[]\n",
    "d2={\"hammad\":\"burger\",\"hanan\":\"pizza\",\"hassan\":{\"b\":\"bread\",\"l\":\"burger\",\"d\":\"biryani\"}}\n",
    "d2[\"awais\"]=\"shawarma\" #add new element\n",
    "d2[\"ali\"]=\"biryani\"#add new element\n",
    "print(d2)\n",
    "del d2[\"awais\"] #to delete the element\n",
    "print(d2)\n",
    "print(d2.copy())#to copy\n",
    "d3=d2\n",
    "del d3[\"ali\"]\n",
    "print(d2)\n",
    "print(d2[\"hammad\"]) #to get the value\n",
    "print(d2[\"hassan\"][\"b\"])\n",
    "print(d2.get(\"hassan\"))#to get the value\n",
    "d2.update({\"ahmad\":\"snacks\"})#add new element\n",
    "print(d2)\n",
    "print(d2.keys())\n",
    "print(d2.items())\n"
   ]
  },
  {
   "cell_type": "code",
   "execution_count": 59,
   "id": "8db2670e",
   "metadata": {},
   "outputs": [
    {
     "name": "stdout",
     "output_type": "stream",
     "text": [
      "\t\tdictionary\n",
      "\n",
      "Enter the word:\n",
      "memory\n",
      "Memory  =   The faculty by which the mind stores and remembers information\n"
     ]
    }
   ],
   "source": [
    "\"\"\"exercise\"\"\"\n",
    "\n",
    "dic={\"memory\":\"The faculty by which the mind stores and remembers information\",\"empowerment\":\"Self-determination\",\"photosythesis\":\"Production of plants\"}\n",
    "print(\"\\t\\tdictionary\\n\")\n",
    "print(\"Enter the word:\")\n",
    "word=input()\n",
    "\n",
    "print(word.capitalize(),\" =  \", dic.get(word))\n",
    "\n"
   ]
  },
  {
   "cell_type": "code",
   "execution_count": 40,
   "id": "bd5a4c60",
   "metadata": {},
   "outputs": [
    {
     "name": "stdout",
     "output_type": "stream",
     "text": [
      "True\n"
     ]
    }
   ],
   "source": [
    "\"\"\"sets\"\"\"\n",
    "\"\"\"s=set()\n",
    "l=[1,2,3,4]\n",
    "sfromlist=set(l)\n",
    "print(sfromlist)\n",
    "print(type(sfromlist))\"\"\"\n",
    "s.add(1)\n",
    "s.add(2)\n",
    "s1={3,4,5}\n",
    "\n",
    "print(s.isdisjoint(s1))"
   ]
  },
  {
   "cell_type": "code",
   "execution_count": 44,
   "id": "013ca317",
   "metadata": {},
   "outputs": [
    {
     "name": "stdout",
     "output_type": "stream",
     "text": [
      "2\n",
      "smaller\n",
      "yes\n"
     ]
    }
   ],
   "source": [
    "\"\"\"if else elif\"\"\"\n",
    "var1=7\n",
    "var2=56\n",
    "var3= int(input())\n",
    "\n",
    "if var3>var2:\n",
    "    print(\"greater\")\n",
    "elif var3==var2:\n",
    "    print(\"equal\")\n",
    "else:\n",
    "    print(\"smaller\")\n",
    "\n",
    "list=[4,5,6]\n",
    "if 4 in list:\n",
    "    print(\"yes\")\n",
    "    "
   ]
  },
  {
   "cell_type": "code",
   "execution_count": 57,
   "id": "09aa7ab6",
   "metadata": {},
   "outputs": [
    {
     "name": "stdout",
     "output_type": "stream",
     "text": [
      "\t\tdriving age\n",
      "\n",
      "Enter your age: \n",
      "19\n",
      "You can drive the car.\n"
     ]
    }
   ],
   "source": [
    "\"\"\"quiz if else\"\"\"\n",
    "\n",
    "print(\"\\t\\tdriving age\\n\")\n",
    "print(\"Enter your age: \")\n",
    "\n",
    "age=int(input())\n",
    "    \n",
    "if age>18:\n",
    "    print(\"You can drive the car.\")\n",
    "elif age==18:\n",
    "    print(\"Sorry we can not understand.Please come to us and we will guide you physically.\")\n",
    "else:\n",
    "    print(\"You are under 18. you can not drive the car.\")\n",
    "\n"
   ]
  },
  {
   "cell_type": "code",
   "execution_count": 67,
   "id": "d2dc485b",
   "metadata": {},
   "outputs": [
    {
     "name": "stdout",
     "output_type": "stream",
     "text": [
      "\t\tCalculator\n",
      "Enter first number: \n",
      "12\n",
      "Enter second number:\n",
      "4\n",
      "Enter the operation (+,-,*,\\,%):\n",
      "/\n",
      "\n",
      " 12 / 4 =  3\n"
     ]
    }
   ],
   "source": [
    "\"\"\"exercise faulty calculator\"\"\"\n",
    "\n",
    "print(\"\\t\\tCalculator\")\n",
    "\n",
    "print(\"Enter first number: \")\n",
    "n1=int(input())\n",
    "print(\"Enter second number:\")\n",
    "n2=int(input())\n",
    "print(\"Enter the operation (+,-,*,\\,%):\")\n",
    "op=input()\n",
    "\n",
    "if n1==45 and n2==3 and op==\"*\":\n",
    "    print(\"\\n\",n1,op,n2,\"=\",\" 555\")\n",
    "elif n1==56 and n2==9 and op==\"+\":\n",
    "    print(\"\\n\",n1,op,n2,\"=\",\" 77\")   \n",
    "elif n1==56 and n2==6 and op==\"/\":\n",
    "    print(\"\\n\",n1,op,n2,\"=\",\" 4\")\n",
    "    \n",
    "elif op==\"+\":\n",
    "    print(\"\\n\",n1,op,n2,\"= \",n1+n2)\n",
    "elif op==\"-\":\n",
    "    print(\"\\n\",n1,op,n2,\"= \",n1-n2) \n",
    "elif op==\"*\":\n",
    "    print(\"\\n\",n1,op,n2,\"= \",n1*n2)\n",
    "elif op==\"/\":\n",
    "    print(\"\\n\",n1,op,n2,\"= \",n1/n2)\n",
    "elif op==\"%\":\n",
    "    print(\"\\n\",n1,op,n2,\"= \",n1%n2) \n",
    "else:\n",
    "    print(\"There is an error!\")\n"
   ]
  },
  {
   "cell_type": "code",
   "execution_count": 7,
   "id": "918a3350",
   "metadata": {},
   "outputs": [
    {
     "name": "stdout",
     "output_type": "stream",
     "text": [
      "hammad\n",
      "hassan\n",
      "hanan\n",
      "hammad 1\n",
      "hassan 2\n",
      "hanan 6\n"
     ]
    }
   ],
   "source": [
    "\"\"\"loop\"\"\"\n",
    "\n",
    "list1=[ [\"hammad\", 1] , [\"hassan\", 2],[\"hanan\",6] ]\n",
    "dict1=dict(list1)\n",
    "for item in dict1:\n",
    "    print(item)\n",
    "for item,lollypop in dict1.items():\n",
    "    print(item,lollypop)\n"
   ]
  },
  {
   "cell_type": "code",
   "execution_count": 11,
   "id": "6200969f",
   "metadata": {},
   "outputs": [
    {
     "name": "stdout",
     "output_type": "stream",
     "text": [
      "67\n",
      "45\n",
      "21\n",
      "343\n",
      "98\n",
      "68\n"
     ]
    }
   ],
   "source": [
    "\"\"\"quiz loop\"\"\"\n",
    "\n",
    "items=[\"hammad\",\"hanan\",\"qw\",2,67,45,21,343,4,5,98,68]\n",
    "for item in items:\n",
    "    if str(item).isnumeric() and item>6:\n",
    "        print(item)\n",
    "    "
   ]
  },
  {
   "cell_type": "code",
   "execution_count": 3,
   "id": "bfff6987",
   "metadata": {},
   "outputs": [
    {
     "name": "stdout",
     "output_type": "stream",
     "text": [
      "0\n",
      "1\n",
      "2\n",
      "3\n",
      "4\n",
      "5\n",
      "6\n",
      "7\n",
      "8\n",
      "9\n",
      "10\n"
     ]
    }
   ],
   "source": [
    "\"\"\"while loop\"\"\"\n",
    "\n",
    "i=0\n",
    "\n",
    "while (i<11):\n",
    "    print(i)\n",
    "    i=i+1"
   ]
  },
  {
   "cell_type": "code",
   "execution_count": 5,
   "id": "2274ad89",
   "metadata": {},
   "outputs": [
    {
     "name": "stdout",
     "output_type": "stream",
     "text": [
      "6789101112131415161718192021222324252627282930313233343536373839404142434445"
     ]
    }
   ],
   "source": [
    "\"\"\"break and continue\"\"\"\n",
    "i=0\n",
    "while (True):\n",
    "    if (i<5):\n",
    "        i=i+1\n",
    "        continue\n",
    "    print(i+1,end=\"\")\n",
    "    if (i==44):\n",
    "        break\n",
    "    i=i+1\n",
    "    "
   ]
  },
  {
   "cell_type": "code",
   "execution_count": 3,
   "id": "0ad18023",
   "metadata": {},
   "outputs": [
    {
     "name": "stdout",
     "output_type": "stream",
     "text": [
      "Enter any number:12\n",
      "Try again!\n",
      "Enter any number:43\n",
      "Try again!\n",
      "Enter any number:23\n",
      "Try again!\n",
      "Enter any number:12\n",
      "Try again!\n",
      "Enter any number:123\n",
      "Congratulations!you have entered number greater than or equal to 100\n"
     ]
    }
   ],
   "source": [
    "\"\"\"quiz\"\"\"\n",
    "while(True):\n",
    "    print(\"Enter any number:\",end=\"\")\n",
    "    n=int(input())\n",
    "    if n>100:\n",
    "        print(\"Congratulations!you have entered number greater than or equal to 100\")\n",
    "        break\n",
    "    else:\n",
    "        print(\"Try again!\")\n",
    "        continue\n"
   ]
  },
  {
   "cell_type": "code",
   "execution_count": null,
   "id": "581edf6f",
   "metadata": {},
   "outputs": [],
   "source": []
  },
  {
   "cell_type": "code",
   "execution_count": null,
   "id": "bffda7e3",
   "metadata": {},
   "outputs": [],
   "source": []
  }
 ],
 "metadata": {
  "kernelspec": {
   "display_name": "Python 3",
   "language": "python",
   "name": "python3"
  },
  "language_info": {
   "codemirror_mode": {
    "name": "ipython",
    "version": 3
   },
   "file_extension": ".py",
   "mimetype": "text/x-python",
   "name": "python",
   "nbconvert_exporter": "python",
   "pygments_lexer": "ipython3",
   "version": "3.8.8"
  }
 },
 "nbformat": 4,
 "nbformat_minor": 5
}
