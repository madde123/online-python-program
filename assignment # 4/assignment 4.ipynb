{
 "cells": [
  {
   "cell_type": "code",
   "execution_count": 14,
   "id": "0ddfd23b",
   "metadata": {},
   "outputs": [
    {
     "name": "stdout",
     "output_type": "stream",
     "text": [
      "\t\tCalculator\n",
      "addition= +\n",
      "multiplication= *\n",
      "subtraction= -\n",
      "division= /\n",
      "power= ^\n",
      "Enter the operation (+,-,*,\\,%,^):+\n",
      "Enter first number: 23\n",
      "Enter second number:5\n",
      "\n",
      " 23.0 + 5.0 =  28.0\n"
     ]
    }
   ],
   "source": [
    "\"\"\" Assignment 4\"\"\"\n",
    "\"\"\" Q1: Make a calculator using Python with addition , subtraction ,\n",
    "multiplication ,division and power\"\"\"\n",
    "\n",
    "print(\"\\t\\tCalculator\")\n",
    "\n",
    "print(\"addition= +\\nmultiplication= *\\nsubtraction= -\\ndivision= /\\npower= ^\")\n",
    "op=input(\"Enter the operation (+,-,*,\\,%,^):\")\n",
    "\n",
    "if(op==\"^\"):\n",
    "    base=int(input(\"Enter the base number:\"))\n",
    "    exp=int(input(\"Enter the exp:\"))\n",
    "    result=pow(base,exp)\n",
    "    print(\"\\n\",base,op,exp,\"=\",str(result))\n",
    "    \n",
    "else:\n",
    "    \n",
    "    n1=float(input(\"Enter first number: \"))\n",
    "\n",
    "    n2=float(input(\"Enter second number:\"))\n",
    "    \n",
    "    if op==\"+\":\n",
    "        print(\"\\n\",n1,op,n2,\"= \",n1+n2)\n",
    "    elif op==\"-\":\n",
    "        print(\"\\n\",n1,op,n2,\"= \",n1-n2) \n",
    "    elif op==\"*\":\n",
    "        print(\"\\n\",n1,op,n2,\"= \",n1*n2)\n",
    "    elif op==\"/\":\n",
    "        print(\"\\n\",n1,op,n2,\"= \",n1/n2)   \n",
    "    else:\n",
    "        print(\"There is an error!\")\n"
   ]
  },
  {
   "cell_type": "code",
   "execution_count": 16,
   "id": "c01c4c75",
   "metadata": {},
   "outputs": [
    {
     "name": "stdout",
     "output_type": "stream",
     "text": [
      "2\n",
      "4\n"
     ]
    }
   ],
   "source": [
    "\"\"\"Q2: Write a program to check if there is any numeric value in list using for\n",
    "loop.\"\"\"\n",
    "\n",
    "lst=[\"hello\",2,\"name\",\"hammad\",4,\"math\"]\n",
    "\n",
    "for i in lst:\n",
    "    if(type(i)==int):\n",
    "        print(i)"
   ]
  },
  {
   "cell_type": "code",
   "execution_count": 20,
   "id": "a2a20537",
   "metadata": {},
   "outputs": [
    {
     "name": "stdout",
     "output_type": "stream",
     "text": [
      "{'Firstname': 'Hammad', 'Lastname': 'Saeed'}\n",
      "{'Firstname': 'Hammad', 'Lastname': 'Saeed', 'City': 'Lahore', 'Province': 'Punjab'}\n"
     ]
    }
   ],
   "source": [
    "\"\"\"Q3: Write a Python script to add a key to a dictionary.\"\"\"\n",
    "\n",
    "dict={\"Firstname\":\"Hammad\",\"Lastname\":\"Saeed\"}\n",
    "print(dict)\n",
    "dict[\"City\"]=\"Lahore\"#add new key\n",
    "dict[\"Province\"]=\"Punjab\"#add new key\n",
    "print(dict)#updated key"
   ]
  },
  {
   "cell_type": "code",
   "execution_count": 22,
   "id": "4b42e508",
   "metadata": {},
   "outputs": [
    {
     "name": "stdout",
     "output_type": "stream",
     "text": [
      "167\n"
     ]
    }
   ],
   "source": [
    "\"\"\"Q4: Write a Python program to sum all the numeric items in a dictionary.\"\"\"\n",
    "dict={\"a\":23,\"b\":43,\"c\":55,\"d\":34,\"e\":12}\n",
    "result=sum(dict.values())\n",
    "print(result)"
   ]
  },
  {
   "cell_type": "code",
   "execution_count": null,
   "id": "ae248ecf",
   "metadata": {},
   "outputs": [],
   "source": [
    "\"\"\"Q5: Write a program to identify duplicate values from list.\"\"\"\n",
    "\n",
    "lst=[23,4,6,5,8,6,42,5,9,4]\n",
    "lst1=[]\n",
    "for i in lst:\n",
    "    if i not in lst1:\n",
    "        lst.append(i)\n",
    "    else:\n",
    "        print(i)"
   ]
  },
  {
   "cell_type": "code",
   "execution_count": 4,
   "id": "de78490d",
   "metadata": {},
   "outputs": [
    {
     "name": "stdout",
     "output_type": "stream",
     "text": [
      "{'Mon': 3, 'Tue': 5, 'Wed': 6, 'Thu': 9}\n",
      "Thu is Present.\n"
     ]
    }
   ],
   "source": [
    "\"\"\"Q6: Write a Python script to check if a given key already exists in a\n",
    "dictionary\"\"\"\n",
    "\n",
    "dict = {'Mon':3,'Tue':5,'Wed':6,'Thu':9}\n",
    "print(dict)\n",
    "check_key = \"Thu\"\n",
    "if check_key in dict:\n",
    "   print(check_key,\"is Present.\")\n",
    "else:\n",
    "   print(check_key, \" is not Present.\")"
   ]
  },
  {
   "cell_type": "code",
   "execution_count": null,
   "id": "445c0424",
   "metadata": {},
   "outputs": [],
   "source": []
  }
 ],
 "metadata": {
  "kernelspec": {
   "display_name": "Python 3",
   "language": "python",
   "name": "python3"
  },
  "language_info": {
   "codemirror_mode": {
    "name": "ipython",
    "version": 3
   },
   "file_extension": ".py",
   "mimetype": "text/x-python",
   "name": "python",
   "nbconvert_exporter": "python",
   "pygments_lexer": "ipython3",
   "version": "3.8.8"
  }
 },
 "nbformat": 4,
 "nbformat_minor": 5
}
